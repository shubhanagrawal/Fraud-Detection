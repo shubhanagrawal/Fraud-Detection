{
 "cells": [
  {
   "cell_type": "code",
   "execution_count": 1,
   "id": "59439a01",
   "metadata": {},
   "outputs": [],
   "source": [
    "\n",
    "import os\n",
    "\n",
    "\n"
   ]
  },
  {
   "cell_type": "code",
   "execution_count": 2,
   "id": "c498f90c",
   "metadata": {},
   "outputs": [
    {
     "data": {
      "text/plain": [
       "'d:\\\\Projects\\\\Fraud-Detection\\\\research'"
      ]
     },
     "execution_count": 2,
     "metadata": {},
     "output_type": "execute_result"
    }
   ],
   "source": [
    "\n",
    "%pwd"
   ]
  },
  {
   "cell_type": "code",
   "execution_count": 3,
   "id": "70e52532",
   "metadata": {},
   "outputs": [],
   "source": [
    "\n",
    "os.chdir(\"../\")"
   ]
  },
  {
   "cell_type": "code",
   "execution_count": 4,
   "id": "e3d87216",
   "metadata": {},
   "outputs": [],
   "source": [
    "from dataclasses import dataclass\n",
    "from pathlib import Path\n",
    "\n",
    "@dataclass(frozen=True)\n",
    "class TrainingConfig:\n",
    "    root_dir: Path\n",
    "    trained_model_path: Path\n",
    "    updated_base_model_path: Path\n",
    "    training_data: Path\n",
    "    \n",
    "    # XGBoost parameters\n",
    "    objective: str\n",
    "    eval_metric: str\n",
    "    max_depth: int\n",
    "    learning_rate: float\n",
    "    n_estimators: int\n",
    "    subsample: float\n",
    "    colsample_bytree: float\n",
    "    gamma: float\n",
    "    min_child_weight: int\n",
    "    scale_pos_weight: int\n",
    "    reg_alpha: float\n",
    "    reg_lambda: float\n",
    "    random_state: int\n",
    "    booster: str\n"
   ]
  },
  {
   "cell_type": "code",
   "execution_count": 5,
   "id": "22c35428",
   "metadata": {},
   "outputs": [],
   "source": [
    "\n",
    "from fraud_detection.constants import *\n",
    "from fraud_detection.utils.common import read_yaml, create_directories"
   ]
  },
  {
   "cell_type": "code",
   "execution_count": 13,
   "id": "c2823889",
   "metadata": {},
   "outputs": [],
   "source": [
    "class ConfigurationManager:\n",
    "    def __init__(\n",
    "        self,\n",
    "        config_filepath=CONFIG_FILE_PATH,\n",
    "        params_filepath=PARAMS_FILE_PATH\n",
    "    ):\n",
    "        self.config = read_yaml(config_filepath)\n",
    "        self.params = read_yaml(params_filepath)\n",
    "\n",
    "        create_directories([self.config.artifacts_root])\n",
    "\n",
    "    def get_training_config(self) -> TrainingConfig:\n",
    "        training = self.config.training\n",
    "        prepare_base_model = self.config.prepare_base_model\n",
    "        params = self.params[\"xgboost_params\"]   # load xgboost params dict\n",
    "\n",
    "        create_directories([\n",
    "            Path(training.root_dir)\n",
    "        ])\n",
    "\n",
    "        training_config = TrainingConfig(\n",
    "            root_dir=Path(training.root_dir),\n",
    "            trained_model_path=Path(training.trained_model_path),\n",
    "            updated_base_model_path=Path(prepare_base_model.updated_base_model_path),\n",
    "            training_data=Path(self.config.data_ingestion.local_data_file),\n",
    "\n",
    "            # XGBoost params\n",
    "            objective=params[\"objective\"],\n",
    "            eval_metric=params[\"eval_metric\"],\n",
    "            max_depth=params[\"max_depth\"],\n",
    "            learning_rate=params[\"learning_rate\"],\n",
    "            n_estimators=params[\"n_estimators\"],\n",
    "            subsample=params[\"subsample\"],\n",
    "            colsample_bytree=params[\"colsample_bytree\"],\n",
    "            gamma=params[\"gamma\"],\n",
    "            min_child_weight=params[\"min_child_weight\"],\n",
    "            scale_pos_weight=params[\"scale_pos_weight\"],\n",
    "            reg_alpha=params[\"reg_alpha\"],\n",
    "            reg_lambda=params[\"reg_lambda\"],\n",
    "            random_state=params[\"random_state\"],\n",
    "            booster=params[\"booster\"]\n",
    "        )\n",
    "\n",
    "        return training_config\n"
   ]
  },
  {
   "cell_type": "code",
   "execution_count": 20,
   "id": "ae97618b",
   "metadata": {},
   "outputs": [],
   "source": [
    "class Training:\n",
    "    def __init__(self, config: TrainingConfig):\n",
    "        self.config = config\n",
    "        self.model = None\n",
    "        logger.info(\"Training class initialized with given configuration.\")\n",
    "\n",
    "    def load_data(self):\n",
    "        logger.info(f\"Loading dataset from {self.config.training_data}\")\n",
    "        df = pd.read_csv(self.config.training_data)\n",
    "\n",
    "        logger.info(\"Splitting features and target.\")\n",
    "        X = df.iloc[:, :-1]\n",
    "        y = df.iloc[:, -1]\n",
    "\n",
    "        logger.info(\"Applying encoding on categorical columns if any.\")\n",
    "        X = pd.get_dummies(X, drop_first=True)\n",
    "\n",
    "        logger.info(\"Performing train-test split.\")\n",
    "        self.X_train, self.X_test, self.y_train, self.y_test = train_test_split(\n",
    "            X, y, test_size=0.2, random_state=self.config.random_state, stratify=y\n",
    "        )\n",
    "\n",
    "        logger.info(\"Applying hybrid resampling (SMOTE + ENN) on training data.\")\n",
    "        sampler = SMOTEENN(random_state=self.config.random_state)\n",
    "        self.X_train, self.y_train = sampler.fit_resample(self.X_train, self.y_train)\n",
    "\n",
    "        logger.info(f\"Training data shape after resampling: {self.X_train.shape}, {self.y_train.shape}\")\n",
    "\n",
    "    def get_model(self):\n",
    "        logger.info(\"Initializing XGBoost model with provided parameters.\")\n",
    "        self.model = xgb.XGBClassifier(\n",
    "            objective=self.config.objective,\n",
    "            eval_metric=self.config.eval_metric,\n",
    "            max_depth=self.config.max_depth,\n",
    "            learning_rate=self.config.learning_rate,\n",
    "            n_estimators=self.config.n_estimators,\n",
    "            subsample=self.config.subsample,\n",
    "            colsample_bytree=self.config.colsample_bytree,\n",
    "            gamma=self.config.gamma,\n",
    "            min_child_weight=self.config.min_child_weight,\n",
    "            scale_pos_weight=self.config.scale_pos_weight,\n",
    "            reg_alpha=self.config.reg_alpha,\n",
    "            reg_lambda=self.config.reg_lambda,\n",
    "            random_state=self.config.random_state,\n",
    "            booster=self.config.booster,\n",
    "            use_label_encoder=False\n",
    "        )\n",
    "        logger.info(\"XGBoost model initialized successfully.\")\n",
    "\n",
    "    def train(self):\n",
    "        logger.info(\"Starting model training.\")\n",
    "\n",
    "        # Train the model\n",
    "        self.model.fit(\n",
    "            self.X_train,\n",
    "            self.y_train\n",
    "        )\n",
    "\n",
    "        logger.info(\"Model training completed.\")\n",
    "\n",
    "        # Save trained model\n",
    "        self.save_model(self.config.trained_model_path, self.model)\n",
    "        logger.info(f\"Model saved at: {self.config.trained_model_path}\")\n",
    "\n",
    "    @staticmethod\n",
    "    def save_model(path: Path, model):\n",
    "        joblib.dump(model, path)\n",
    "        logger.info(f\"Model saved at {path}\")\n"
   ]
  },
  {
   "cell_type": "code",
   "execution_count": 21,
   "id": "aa8526c8",
   "metadata": {},
   "outputs": [
    {
     "name": "stdout",
     "output_type": "stream",
     "text": [
      "[2025-08-30 15:14:50,364: INFO: common: yaml file: config\\config.yaml loaded successfully]\n",
      "[2025-08-30 15:14:50,384: INFO: common: yaml file: params.yaml loaded successfully]\n",
      "[2025-08-30 15:14:50,384: INFO: common: created directory at: artifacts]\n",
      "[2025-08-30 15:14:50,384: INFO: common: created directory at: artifacts\\training]\n",
      "[2025-08-30 15:14:50,384: INFO: 4053563582: Training class initialized with given configuration.]\n",
      "[2025-08-30 15:14:50,393: INFO: 4053563582: Loading dataset from artifacts\\data_ingestion\\fraud.csv]\n",
      "[2025-08-30 15:14:50,414: INFO: 4053563582: Splitting features and target.]\n",
      "[2025-08-30 15:14:50,417: INFO: 4053563582: Applying encoding on categorical columns if any.]\n",
      "[2025-08-30 15:14:50,443: INFO: 4053563582: Performing train-test split.]\n",
      "[2025-08-30 15:14:50,451: INFO: 4053563582: Applying hybrid resampling (SMOTE + ENN) on training data.]\n",
      "[2025-08-30 15:14:50,500: INFO: 4053563582: Training data shape after resampling: (666, 8), (666,)]\n",
      "[2025-08-30 15:14:50,504: INFO: 4053563582: Initializing XGBoost model with provided parameters.]\n",
      "[2025-08-30 15:14:50,504: INFO: 4053563582: XGBoost model initialized successfully.]\n",
      "[2025-08-30 15:14:50,504: INFO: 4053563582: Starting model training.]\n",
      "[2025-08-30 15:14:50,697: INFO: 4053563582: Model training completed.]\n",
      "[2025-08-30 15:14:50,704: INFO: 4053563582: Model saved at artifacts\\training\\model.h5]\n",
      "[2025-08-30 15:14:50,704: INFO: 4053563582: Model saved at: artifacts\\training\\model.h5]\n"
     ]
    },
    {
     "name": "stderr",
     "output_type": "stream",
     "text": [
      "d:\\Anaconda\\envs\\rag\\lib\\site-packages\\xgboost\\training.py:183: UserWarning: [15:14:50] WARNING: C:\\actions-runner\\_work\\xgboost\\xgboost\\src\\learner.cc:738: \n",
      "Parameters: { \"use_label_encoder\" } are not used.\n",
      "\n",
      "  bst.update(dtrain, iteration=i, fobj=obj)\n"
     ]
    }
   ],
   "source": [
    "try:\n",
    "    config = ConfigurationManager()\n",
    "    training_config = config.get_training_config()\n",
    "    training = Training(config=training_config)\n",
    "    training.load_data()\n",
    "    training.get_model()\n",
    "    training.train()\n",
    "    \n",
    "except Exception as e:\n",
    "    raise e"
   ]
  }
 ],
 "metadata": {
  "kernelspec": {
   "display_name": "rag",
   "language": "python",
   "name": "python3"
  },
  "language_info": {
   "codemirror_mode": {
    "name": "ipython",
    "version": 3
   },
   "file_extension": ".py",
   "mimetype": "text/x-python",
   "name": "python",
   "nbconvert_exporter": "python",
   "pygments_lexer": "ipython3",
   "version": "3.10.18"
  }
 },
 "nbformat": 4,
 "nbformat_minor": 5
}
