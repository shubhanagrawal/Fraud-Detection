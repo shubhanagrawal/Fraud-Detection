{
 "cells": [
  {
   "cell_type": "code",
   "execution_count": 6,
   "id": "d4b66c95",
   "metadata": {},
   "outputs": [],
   "source": [
    "import os\n"
   ]
  },
  {
   "cell_type": "code",
   "execution_count": 7,
   "id": "a5a77877",
   "metadata": {},
   "outputs": [
    {
     "data": {
      "text/plain": [
       "'d:\\\\Projects\\\\Fraud-Detection\\\\research'"
      ]
     },
     "execution_count": 7,
     "metadata": {},
     "output_type": "execute_result"
    }
   ],
   "source": [
    "%pwd"
   ]
  },
  {
   "cell_type": "code",
   "execution_count": 8,
   "id": "c6e34def",
   "metadata": {},
   "outputs": [],
   "source": [
    "%pwd\n",
    "os.chdir(\"../\")"
   ]
  },
  {
   "cell_type": "code",
   "execution_count": 28,
   "id": "4e0eb1aa",
   "metadata": {},
   "outputs": [],
   "source": [
    "\n",
    "from dataclasses import dataclass\n",
    "from pathlib import Path\n",
    "\n",
    "\n",
    "@dataclass(frozen=True)\n",
    "class PrepareBaseModelConfig:\n",
    "    root_dir: Path\n",
    "    base_model_path: Path\n",
    "    updated_base_model_path: Path\n",
    "    params_n_estimators: int\n",
    "    params_max_depth: int\n",
    "    params_learning_rate: float\n",
    "    params_objective: str\n",
    "    params_booster: str\n",
    "    params_random_state: int\n",
    "    params_subsample: float\n",
    "    params_colsample_bytree: float\n",
    "    params_gamma: float\n",
    "    params_min_child_weight: int\n",
    "    params_scale_pos_weight: int\n",
    "    params_reg_alpha: float\n",
    "    params_reg_lambda: float\n"
   ]
  },
  {
   "cell_type": "code",
   "execution_count": 29,
   "id": "e6084c85",
   "metadata": {},
   "outputs": [],
   "source": [
    "\n",
    "from fraud_detection.constants import *\n",
    "from fraud_detection.utils.common import read_yaml, create_directories"
   ]
  },
  {
   "cell_type": "code",
   "execution_count": 30,
   "id": "d36edc08",
   "metadata": {},
   "outputs": [],
   "source": [
    "class ConfigurationManager:\n",
    "    def __init__(\n",
    "        self,\n",
    "        config_filepath = CONFIG_FILE_PATH,\n",
    "        params_filepath = PARAMS_FILE_PATH):\n",
    "\n",
    "        self.config = read_yaml(config_filepath)\n",
    "        self.params = read_yaml(params_filepath)\n",
    "\n",
    "        create_directories([self.config.artifacts_root])\n",
    "\n",
    "\n",
    "    def get_prepare_base_model_config(self) -> PrepareBaseModelConfig:\n",
    "        config = self.config.prepare_base_model\n",
    "        \n",
    "        create_directories([config.root_dir])\n",
    "\n",
    "        xgb_params = self.params['xgboost_params']\n",
    "        prepare_base_model_config = PrepareBaseModelConfig(\n",
    "            root_dir=Path(config.root_dir),\n",
    "            base_model_path=Path(config.base_model_path),\n",
    "            updated_base_model_path=Path(config.updated_base_model_path),\n",
    "            params_n_estimators=xgb_params['n_estimators'],\n",
    "            params_max_depth=xgb_params['max_depth'],\n",
    "            params_learning_rate=xgb_params['learning_rate'],\n",
    "            params_objective=xgb_params['objective'],\n",
    "            params_booster=xgb_params['booster'],\n",
    "            params_random_state=xgb_params['random_state'],\n",
    "            params_subsample=xgb_params['subsample'],\n",
    "            params_colsample_bytree=xgb_params['colsample_bytree'],\n",
    "            params_gamma=xgb_params['gamma'],\n",
    "            params_min_child_weight=xgb_params['min_child_weight'],\n",
    "            params_scale_pos_weight=xgb_params['scale_pos_weight'],\n",
    "            params_reg_alpha=xgb_params['reg_alpha'],\n",
    "            params_reg_lambda=xgb_params['reg_lambda']\n",
    "        )\n",
    "\n",
    "        return prepare_base_model_config"
   ]
  },
  {
   "cell_type": "code",
   "execution_count": 31,
   "id": "6db6d25e",
   "metadata": {},
   "outputs": [],
   "source": [
    "import os\n",
    "import urllib.request as request\n",
    "from zipfile import ZipFile"
   ]
  },
  {
   "cell_type": "code",
   "execution_count": 32,
   "id": "6a555bf4",
   "metadata": {},
   "outputs": [],
   "source": [
    "import joblib\n",
    "import xgboost as xgb\n",
    "\n",
    "class PrepareBaseModel:\n",
    "    def __init__(self, config: PrepareBaseModelConfig):\n",
    "        self.config = config\n",
    "\n",
    "    def get_base_model(self):\n",
    "        # Create XGBoost base model using all config parameters\n",
    "        self.model = xgb.XGBClassifier(\n",
    "            n_estimators=self.config.params_n_estimators,\n",
    "            max_depth=self.config.params_max_depth,\n",
    "            learning_rate=self.config.params_learning_rate,\n",
    "            objective=self.config.params_objective,\n",
    "            random_state=self.config.params_random_state,\n",
    "            subsample=self.config.params_subsample,\n",
    "            colsample_bytree=self.config.params_colsample_bytree,\n",
    "            gamma=self.config.params_gamma,\n",
    "            min_child_weight=self.config.params_min_child_weight,\n",
    "            scale_pos_weight=self.config.params_scale_pos_weight,\n",
    "            reg_alpha=self.config.params_reg_alpha,\n",
    "            reg_lambda=self.config.params_reg_lambda,\n",
    "            booster=self.config.params_booster\n",
    "        )\n",
    "        self.save_model(path=self.config.base_model_path, model=self.model)\n",
    "\n",
    "    @staticmethod\n",
    "    def _prepare_full_model(model, **kwargs):\n",
    "        # For XGBoost, the base model is typically the full model\n",
    "        return model\n",
    "\n",
    "    def update_base_model(self):\n",
    "        self.full_model = self._prepare_full_model(model=self.model)\n",
    "        joblib.dump(self.full_model, self.config.updated_base_model_path)\n",
    "\n",
    "    @staticmethod\n",
    "    def save_model(path: Path, model):\n",
    "        joblib.dump(model, path)"
   ]
  },
  {
   "cell_type": "code",
   "execution_count": 33,
   "id": "42851f06",
   "metadata": {},
   "outputs": [
    {
     "name": "stdout",
     "output_type": "stream",
     "text": [
      "[2025-08-30 12:32:42,661: INFO: common: yaml file: config\\config.yaml loaded successfully]\n",
      "[2025-08-30 12:32:42,666: INFO: common: yaml file: params.yaml loaded successfully]\n",
      "[2025-08-30 12:32:42,668: INFO: common: created directory at: artifacts]\n",
      "[2025-08-30 12:32:42,671: INFO: common: created directory at: artifacts/prepare_base_model]\n"
     ]
    }
   ],
   "source": [
    "try:\n",
    "    config = ConfigurationManager()\n",
    "    prepare_base_model_config = config.get_prepare_base_model_config()\n",
    "    prepare_base_model = PrepareBaseModel(config=prepare_base_model_config)\n",
    "    prepare_base_model.get_base_model()\n",
    "    prepare_base_model.update_base_model()\n",
    "except Exception as e:\n",
    "    raise e"
   ]
  }
 ],
 "metadata": {
  "kernelspec": {
   "display_name": "rag",
   "language": "python",
   "name": "python3"
  },
  "language_info": {
   "codemirror_mode": {
    "name": "ipython",
    "version": 3
   },
   "file_extension": ".py",
   "mimetype": "text/x-python",
   "name": "python",
   "nbconvert_exporter": "python",
   "pygments_lexer": "ipython3",
   "version": "3.10.18"
  }
 },
 "nbformat": 4,
 "nbformat_minor": 5
}
